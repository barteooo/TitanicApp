{
 "cells": [
  {
   "cell_type": "code",
   "execution_count": 22,
   "metadata": {},
   "outputs": [
    {
     "name": "stdout",
     "output_type": "stream",
     "text": [
      "   PassengerId  Survived  Pclass  \\\n",
      "0            1         0       3   \n",
      "1            2         1       1   \n",
      "2            3         1       3   \n",
      "3            4         1       1   \n",
      "4            5         0       3   \n",
      "\n",
      "                                                Name     Sex   Age  SibSp  \\\n",
      "0                            Braund, Mr. Owen Harris    male  22.0      1   \n",
      "1  Cumings, Mrs. John Bradley (Florence Briggs Th...  female  38.0      1   \n",
      "2                             Heikkinen, Miss. Laina  female  26.0      0   \n",
      "3       Futrelle, Mrs. Jacques Heath (Lily May Peel)  female  35.0      1   \n",
      "4                           Allen, Mr. William Henry    male  35.0      0   \n",
      "\n",
      "   Parch            Ticket     Fare Cabin Embarked  \n",
      "0      0         A/5 21171   7.2500   NaN        S  \n",
      "1      0          PC 17599  71.2833   C85        C  \n",
      "2      0  STON/O2. 3101282   7.9250   NaN        S  \n",
      "3      0            113803  53.1000  C123        S  \n",
      "4      0            373450   8.0500   NaN        S  \n"
     ]
    }
   ],
   "source": [
    "import pandas as pd\n",
    "\n",
    "file_path = '/Users/barteoo/Documents/TitanicApp/database/titanic.csv'\n",
    "\n",
    "data = pd.read_csv(file_path)\n",
    "\n",
    "print(data.head())"
   ]
  },
  {
   "cell_type": "code",
   "execution_count": 23,
   "metadata": {},
   "outputs": [],
   "source": [
    "data = data.drop(columns=['PassengerId', 'Name', 'Ticket', 'Cabin'])\n",
    "data['Age'] = data['Age'].fillna(data['Age'].mean())\n",
    "data['Embarked'] = data['Embarked'].fillna(data['Embarked'].mode()[0])"
   ]
  },
  {
   "cell_type": "code",
   "execution_count": 24,
   "metadata": {},
   "outputs": [],
   "source": [
    "data = pd.get_dummies(data, columns=['Sex', 'Embarked', 'Pclass'], drop_first=True)\n"
   ]
  },
  {
   "cell_type": "code",
   "execution_count": 25,
   "metadata": {},
   "outputs": [
    {
     "name": "stdout",
     "output_type": "stream",
     "text": [
      "Accuracy of the model: 0.83\n"
     ]
    }
   ],
   "source": [
    "from sklearn.model_selection import train_test_split\n",
    "from sklearn.ensemble import GradientBoostingClassifier\n",
    "from sklearn.metrics import accuracy_score\n",
    "\n",
    "X = data.drop('Survived', axis=1)\n",
    "y = data['Survived']\n",
    "\n",
    "X_train, X_test, y_train, y_test = train_test_split(X, y, test_size=0.2, random_state=42)\n",
    "\n",
    "model = GradientBoostingClassifier()\n",
    "model.fit(X_train, y_train)\n",
    "\n",
    "y_pred = model.predict(X_test)\n",
    "\n",
    "accuracy = accuracy_score(y_test, y_pred)\n",
    "print(f'Accuracy of the model: {accuracy:.2f}')"
   ]
  },
  {
   "cell_type": "code",
   "execution_count": 26,
   "metadata": {},
   "outputs": [
    {
     "name": "stdout",
     "output_type": "stream",
     "text": [
      "              precision    recall  f1-score   support\n",
      "\n",
      "           0       0.83      0.90      0.86       105\n",
      "           1       0.84      0.73      0.78        74\n",
      "\n",
      "    accuracy                           0.83       179\n",
      "   macro avg       0.83      0.82      0.82       179\n",
      "weighted avg       0.83      0.83      0.83       179\n",
      "\n"
     ]
    }
   ],
   "source": [
    "from sklearn.metrics import classification_report\n",
    "\n",
    "report = classification_report(y_test, y_pred)\n",
    "print(report)\n"
   ]
  },
  {
   "cell_type": "code",
   "execution_count": 61,
   "metadata": {},
   "outputs": [
    {
     "name": "stdout",
     "output_type": "stream",
     "text": [
      "Osoba przetrwała\n"
     ]
    },
    {
     "name": "stderr",
     "output_type": "stream",
     "text": [
      "/Users/barteoo/Documents/TitanicApp/ml-client/.venv/lib/python3.11/site-packages/sklearn/base.py:493: UserWarning: X does not have valid feature names, but GradientBoostingClassifier was fitted with feature names\n",
      "  warnings.warn(\n"
     ]
    }
   ],
   "source": [
    "import numpy as np\n",
    "\n",
    "def single_prediction(age, sibsp, parch, fare, sex_male, embarked_Q, embarked_S, pclass_2, pclass_3):\n",
    "    # Utwórz tablicę z wartościami wejściowymi\n",
    "    input_data = np.array([[\n",
    "        age, sibsp, parch, fare, \n",
    "        sex_male, embarked_Q, embarked_S, \n",
    "        pclass_2, pclass_3\n",
    "    ]])\n",
    "    \n",
    "    # Dokonaj predykcji\n",
    "    prediction = model.predict(input_data)\n",
    "    \n",
    "    # Zinterpretuj wynik\n",
    "    if prediction[0] == 1:\n",
    "        return \"Osoba przetrwała\"\n",
    "    else:\n",
    "        return \"Osoba nie przetrwała\"\n",
    "\n",
    "# Przykład użycia funkcji:\n",
    "result = single_prediction(\n",
    "    age=65,         # wiek\n",
    "    sibsp=1,        # liczba rodzeństwa/małżonków na pokładzie\n",
    "    parch=1,        # liczba rodziców/dzieci na pokładzie\n",
    "    fare=1.05,       # opłata za bilet\n",
    "    sex_male=0,     # płeć: 1 dla mężczyzny, 0 dla kobiety\n",
    "    embarked_Q=1,   # wypłynięcie z Queenstown: 1 tak, 0 nie\n",
    "    embarked_S=0,   # wypłynięcie z Southampton: 1 tak, 0 nie\n",
    "    pclass_2=0,     # klasa biletu: 0 dla klasy 2, 1 dla klasy 3\n",
    "    pclass_3=0      # klasa biletu: 0 dla klasy 2, 1 dla klasy 3\n",
    ")\n",
    "print(result)"
   ]
  },
  {
   "cell_type": "code",
   "execution_count": 55,
   "metadata": {},
   "outputs": [],
   "source": [
    "import pickle\n",
    "with open(\"model.pkl\", \"wb\") as file: \n",
    "    pickle.dump(model, file)"
   ]
  },
  {
   "cell_type": "code",
   "execution_count": 57,
   "metadata": {},
   "outputs": [],
   "source": [
    "with open('model.pkl', 'rb') as file:\n",
    "    model_loaded = pickle.load(file)"
   ]
  },
  {
   "cell_type": "code",
   "execution_count": 60,
   "metadata": {},
   "outputs": [
    {
     "name": "stdout",
     "output_type": "stream",
     "text": [
      "Osoba nie przetrwała\n"
     ]
    },
    {
     "name": "stderr",
     "output_type": "stream",
     "text": [
      "/Users/barteoo/Documents/TitanicApp/ml-client/.venv/lib/python3.11/site-packages/sklearn/base.py:493: UserWarning: X does not have valid feature names, but GradientBoostingClassifier was fitted with feature names\n",
      "  warnings.warn(\n"
     ]
    }
   ],
   "source": [
    "import pickle\n",
    "\n",
    "\n",
    "\n",
    "def single_prediction(model, age, sibsp, parch, fare, sex_male, embarked_Q, embarked_S, pclass_2, pclass_3):\n",
    "    # Utwórz tablicę z wartościami wejściowymi\n",
    "    input_data = np.array([[\n",
    "        age, sibsp, parch, fare, \n",
    "        sex_male, embarked_Q, embarked_S, \n",
    "        pclass_2, pclass_3\n",
    "    ]])\n",
    "    \n",
    "    # Dokonaj predykcji\n",
    "    prediction = model.predict(input_data)\n",
    "    \n",
    "    # Zinterpretuj wynik\n",
    "    return \"Osoba przetrwała\" if prediction[0] == 1 else \"Osoba nie przetrwała\"\n",
    "\n",
    "# Przykład użycia funkcji:\n",
    "result = single_prediction(\n",
    "    model_loaded,\n",
    "    age=65,         # wiek\n",
    "    sibsp=1,        # liczba rodzeństwa/małżonków na pokładzie\n",
    "    parch=1,        # liczba rodziców/dzieci na pokładzie\n",
    "    fare=1.05,       # opłata za bilet\n",
    "    sex_male=0,     # płeć: 1 dla mężczyzny, 0 dla kobiety\n",
    "    embarked_Q=1,   # wypłynięcie z Queenstown: 1 tak, 0 nie\n",
    "    embarked_S=0,   # wypłynięcie z Southampton: 1 tak, 0 nie\n",
    "    pclass_2=0,     # klasa biletu: 0 dla klasy 2, 1 dla klasy 3\n",
    "    pclass_3=1      # klasa biletu: 0 dla klasy 2, 1 dla klasy 3\n",
    ")\n",
    "print(result)"
   ]
  }
 ],
 "metadata": {
  "kernelspec": {
   "display_name": ".venv",
   "language": "python",
   "name": "python3"
  },
  "language_info": {
   "codemirror_mode": {
    "name": "ipython",
    "version": 3
   },
   "file_extension": ".py",
   "mimetype": "text/x-python",
   "name": "python",
   "nbconvert_exporter": "python",
   "pygments_lexer": "ipython3",
   "version": "3.11.9"
  }
 },
 "nbformat": 4,
 "nbformat_minor": 2
}
